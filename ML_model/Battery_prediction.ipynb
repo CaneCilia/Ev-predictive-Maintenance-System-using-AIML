{
 "cells": [
  {
   "cell_type": "code",
   "execution_count": 3,
   "metadata": {},
   "outputs": [
    {
     "name": "stdout",
     "output_type": "stream",
     "text": [
      "Model training completed and saved.\n"
     ]
    }
   ],
   "source": [
    "import pandas as pd\n",
    "import numpy as np\n",
    "from sklearn.model_selection import train_test_split\n",
    "from sklearn.preprocessing import StandardScaler, LabelEncoder\n",
    "from sklearn.ensemble import RandomForestClassifier\n",
    "import joblib\n",
    "\n",
    "file_path = r\"C:\\Users\\kanef\\OneDrive\\Desktop\\Git Desk\\Ev-predictive-Maintenance-System-using-AIML\\Data\\battery_failure_dataset.csv\"\n",
    "df = pd.read_csv(file_path)\n",
    "\n",
    "df.drop(columns=[\"Index\", \"battery_failure\"], inplace=True)\n",
    "\n",
    "label_encoder = LabelEncoder()\n",
    "df[\"Status\"] = label_encoder.fit_transform(df[\"Status\"])\n",
    "\n",
    "X = df.drop(columns=[\"Status\"])\n",
    "y = df[\"Status\"]\n",
    "\n",
    "X_train, X_test, y_train, y_test = train_test_split(X, y, test_size=0.2, random_state=42)\n",
    "\n",
    "scaler = StandardScaler()\n",
    "X_train = scaler.fit_transform(X_train)\n",
    "X_test = scaler.transform(X_test)\n",
    "\n",
    "clf = RandomForestClassifier(n_estimators=100, random_state=42)\n",
    "clf.fit(X_train, y_train)\n",
    "\n",
    "joblib.dump(clf, \"battery_life_model.pkl\")\n",
    "joblib.dump(scaler, \"scaler.pkl\")\n",
    "joblib.dump(label_encoder, \"label_encoder.pkl\")\n",
    "\n",
    "print(\"Model training completed and saved.\")"
   ]
  },
  {
   "cell_type": "code",
   "execution_count": 4,
   "metadata": {},
   "outputs": [
    {
     "name": "stdout",
     "output_type": "stream",
     "text": [
      "Enter battery parameters:\n",
      "Predicted Battery Life Status: Low\n"
     ]
    },
    {
     "name": "stderr",
     "output_type": "stream",
     "text": [
      "c:\\Users\\kanef\\AppData\\Local\\Programs\\Python\\Python311\\Lib\\site-packages\\sklearn\\utils\\validation.py:2739: UserWarning: X does not have valid feature names, but StandardScaler was fitted with feature names\n",
      "  warnings.warn(\n"
     ]
    }
   ],
   "source": [
    "import numpy as np\n",
    "import joblib\n",
    "\n",
    "# Load the saved model, scaler, and label encoder\n",
    "clf = joblib.load(\"battery_life_model.pkl\")\n",
    "scaler = joblib.load(\"scaler.pkl\")\n",
    "label_encoder = joblib.load(\"label_encoder.pkl\")\n",
    "\n",
    "# User input values\n",
    "print(\"Enter battery parameters:\")\n",
    "battery_voltage = float(input(\"Battery Voltage: \"))\n",
    "battery_current = float(input(\"Battery Current: \"))\n",
    "battery_temperature = float(input(\"Battery Temperature: \"))\n",
    "battery_health = float(input(\"Battery Health: \"))\n",
    "charging_cycles = int(input(\"Charging Cycles: \"))\n",
    "state_of_charge = float(input(\"State of Charge: \"))\n",
    "state_of_health = float(input(\"State of Health: \"))\n",
    "motor_temperature = float(input(\"Motor Temperature: \"))\n",
    "voltage_fluctuation = bool(int(input(\"Voltage Fluctuation (0 or 1): \")))\n",
    "temperature_spike = bool(int(input(\"Temperature Spike (0 or 1): \")))\n",
    "overcurrent_alert = bool(int(input(\"Overcurrent Alert (0 or 1): \")))\n",
    "charging_anomaly = bool(int(input(\"Charging Anomaly (0 or 1): \")))\n",
    "\n",
    "# Create input array\n",
    "user_input = np.array([[\n",
    "    battery_voltage, battery_current, battery_temperature,\n",
    "    battery_health, charging_cycles, state_of_charge,\n",
    "    state_of_health, motor_temperature, voltage_fluctuation,\n",
    "    temperature_spike, overcurrent_alert, charging_anomaly\n",
    "]])\n",
    "\n",
    "# Standardize input data\n",
    "user_input_scaled = scaler.transform(user_input)\n",
    "\n",
    "# Predict the battery status\n",
    "prediction = clf.predict(user_input_scaled)\n",
    "predicted_status = label_encoder.inverse_transform(prediction)[0]\n",
    "\n",
    "print(f\"Predicted Battery Life Status: {predicted_status}\")"
   ]
  }
 ],
 "metadata": {
  "kernelspec": {
   "display_name": "Python 3",
   "language": "python",
   "name": "python3"
  },
  "language_info": {
   "codemirror_mode": {
    "name": "ipython",
    "version": 3
   },
   "file_extension": ".py",
   "mimetype": "text/x-python",
   "name": "python",
   "nbconvert_exporter": "python",
   "pygments_lexer": "ipython3",
   "version": "3.11.1"
  }
 },
 "nbformat": 4,
 "nbformat_minor": 2
}
